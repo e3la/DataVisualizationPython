{
  "cells": [
    {
      "cell_type": "markdown",
      "id": "de46ef7d",
      "metadata": {
        "id": "de46ef7d"
      },
      "source": [
        "## A step-by-step guide to Data Visualizations in Python\n",
        "\n",
        "Follow along with [this article](https://medium.com/codex/step-by-step-guide-to-data-visualizations-in-python-b322129a1540).  We will be using [this .xlsx dataset](https://www.kaggle.com/roshansharma/immigration-to-canada-ibm-dataset) from Kaggle on Immigration to Canada from 1980–2013. No need to dowload it, it is already in the git repositroy you forked.<br>\n",
        "\n",
        "#### We suggest that instead of copy and pasting the code, you type it out.  This will help you become more familiar with the syntex and better understand it.\n"
      ]
    },
    {
      "cell_type": "markdown",
      "id": "36f3869c",
      "metadata": {
        "id": "36f3869c"
      },
      "source": [
        "### Step-1: Importing Packages"
      ]
    },
    {
      "cell_type": "code",
      "execution_count": 1,
      "id": "cad80a84",
      "metadata": {
        "id": "cad80a84",
        "outputId": "47f0df44-8377-452f-e69b-c2333e6d956e",
        "colab": {
          "base_uri": "https://localhost:8080/",
          "height": 135
        }
      },
      "outputs": [
        {
          "output_type": "error",
          "ename": "SyntaxError",
          "evalue": "ignored",
          "traceback": [
            "\u001b[0;36m  File \u001b[0;32m\"<ipython-input-1-dcece73fa197>\"\u001b[0;36m, line \u001b[0;32m12\u001b[0m\n\u001b[0;31m    alice-url=\"https://raw.githubusercontent.com/e3la/DataVisualizationPython/main/Data/Alice.txt\"\u001b[0m\n\u001b[0m    ^\u001b[0m\n\u001b[0;31mSyntaxError\u001b[0m\u001b[0;31m:\u001b[0m cannot assign to expression here. Maybe you meant '==' instead of '='?\n"
          ]
        }
      ],
      "source": [
        "#import all librarys and modules needed\n",
        "\n",
        "import pandas as pd\n",
        "import numpy as np\n",
        "import seaborn as sb\n",
        "import matplotlib.pyplot as plt\n",
        "from matplotlib import style\n",
        "# setting style for graphs\n",
        "style.use('ggplot')\n",
        "plt.rcParams['figure.figsize'] = (20,10)\n",
        "\n",
        "alice-url=\"https://raw.githubusercontent.com/e3la/DataVisualizationPython/main/Data/Alice.txt\"\n",
        "imagine-url=\"https://raw.githubusercontent.com/e3la/DataVisualizationPython/main/Data/Imagine.txt\"\n",
        "Canada-url=\"https://github.com/e3la/DataVisualizationPython/raw/main/Data/Canada.xlsx\"\n"
      ]
    },
    {
      "cell_type": "markdown",
      "id": "9e475669",
      "metadata": {
        "id": "9e475669"
      },
      "source": [
        "### Step-2 : Importing and Cleaning Data"
      ]
    },
    {
      "cell_type": "code",
      "execution_count": null,
      "id": "725a3f37",
      "metadata": {
        "id": "725a3f37"
      },
      "outputs": [],
      "source": [
        "#import and clean data, remember path is data/Canada.xlsx\n"
      ]
    },
    {
      "cell_type": "markdown",
      "id": "517c0bf9",
      "metadata": {
        "id": "517c0bf9"
      },
      "source": [
        "### Step-3 : Creating Beautiful Visualizations\n",
        "\n",
        "#### Line Chart"
      ]
    },
    {
      "cell_type": "code",
      "execution_count": null,
      "id": "24e86697",
      "metadata": {
        "id": "24e86697"
      },
      "outputs": [],
      "source": [
        "# Single line chart\n",
        "\n"
      ]
    },
    {
      "cell_type": "code",
      "execution_count": null,
      "id": "fed6d30a",
      "metadata": {
        "id": "fed6d30a"
      },
      "outputs": [],
      "source": [
        "# Multiple Line chart\n"
      ]
    },
    {
      "cell_type": "markdown",
      "id": "966ec2fb",
      "metadata": {
        "id": "966ec2fb"
      },
      "source": [
        "#### Lets talk about style   "
      ]
    },
    {
      "cell_type": "code",
      "execution_count": null,
      "id": "5fc473cf",
      "metadata": {
        "id": "5fc473cf"
      },
      "outputs": [],
      "source": [
        "#Shows all avaiable built-in styles\n",
        "print(plt.style.available)"
      ]
    },
    {
      "cell_type": "markdown",
      "id": "28feffa4",
      "metadata": {
        "id": "28feffa4"
      },
      "source": [
        "To see a visualization of the aviable style sheets [click here](https://matplotlib.org/stable/gallery/style_sheets/style_sheets_reference.html).\n",
        "\n",
        "Syntex to select a specific style is: plt.style.use('style_name')\n",
        "\n",
        "Try it out by adding the line of code to the top of the code block above and choose one of the preinstalled styles. Which style is your favorite?<br><br>\n",
        "\n",
        "What happens when you change the line- plt.legend(loc = 'upper left', fontsize = 12) to plt.legend(loc = 'lower right', fontsize = 12)? <br><br><br><br>\n",
        "\n",
        "\n",
        "\n",
        "Experiment changing other lines of the code and see how the graph changes. Add any notes or observations here. Going forward feel free to experiment with each graph type<br><br><br><br><br><br>"
      ]
    },
    {
      "cell_type": "markdown",
      "id": "d9153254",
      "metadata": {
        "id": "d9153254"
      },
      "source": [
        "#### Install mplcyberpunk\n",
        "Open a terminal window and at at the prompt type:\n",
        "\n",
        "python -V\n",
        "\n",
        "If its python 3.something, copy and paste: pip install mplcyberpunk\n",
        "If its python 2.something, copy and paste: pip3 install mplcyberpunk\n",
        "\n",
        "\n",
        "For more info on mplcyberpunk click [here.](https://github.com/dhaitz/mplcyberpunk)"
      ]
    },
    {
      "cell_type": "code",
      "execution_count": null,
      "id": "d6532a85",
      "metadata": {
        "id": "d6532a85"
      },
      "outputs": [],
      "source": [
        "# Cyberpunk Multiple Line Chart\n",
        "\n"
      ]
    },
    {
      "cell_type": "markdown",
      "id": "01dbbde2",
      "metadata": {
        "id": "01dbbde2"
      },
      "source": [
        "#### Bar Chart"
      ]
    },
    {
      "cell_type": "code",
      "execution_count": null,
      "id": "f3930bde",
      "metadata": {
        "id": "f3930bde"
      },
      "outputs": [],
      "source": [
        "# Vertical bar chart\n",
        "# Do not change the style back to ggplot\n",
        "# delete the style.use('ggplot') line of code\n",
        "\n"
      ]
    },
    {
      "cell_type": "markdown",
      "id": "ee20b2db",
      "metadata": {
        "id": "ee20b2db"
      },
      "source": [
        "Notice that style is still set to cyberpunk.  How do we fix it so we can see the labels?<br> <br>\n",
        "\n",
        "Answer: change the color = 'black' to 'white'\n",
        "\n",
        "Feel free to experiment and add any notes or observations here. <br><br><br><br><br>"
      ]
    },
    {
      "cell_type": "code",
      "execution_count": null,
      "id": "8c76e7b3",
      "metadata": {
        "id": "8c76e7b3"
      },
      "outputs": [],
      "source": [
        "# Horizontal bar chart\n",
        "#change style back to ggplt\n"
      ]
    },
    {
      "cell_type": "markdown",
      "id": "7fcf08a3",
      "metadata": {
        "id": "7fcf08a3"
      },
      "source": [
        "Feel free to experiment and add any notes or observations here. <br><br><br><br><br>"
      ]
    },
    {
      "cell_type": "code",
      "execution_count": null,
      "id": "64b65871",
      "metadata": {
        "id": "64b65871"
      },
      "outputs": [],
      "source": [
        "# Grouped bar chart\n"
      ]
    },
    {
      "cell_type": "markdown",
      "id": "f4c40b4e",
      "metadata": {
        "id": "f4c40b4e"
      },
      "source": [
        "Notice how the labels in the legend have disapeared?  We can fix this by adding labelcolor='k' to plt.legend<br>\n",
        "<br>plt.legend(title = 'Country', fontsize = 12, labelcolor='black')\n",
        "\n"
      ]
    },
    {
      "cell_type": "markdown",
      "id": "c1fe51d0",
      "metadata": {
        "id": "c1fe51d0"
      },
      "source": [
        "Feel free to experiment and add any notes or observations here. <br><br><br><br><br>"
      ]
    },
    {
      "cell_type": "markdown",
      "id": "19f08118",
      "metadata": {
        "id": "19f08118"
      },
      "source": [
        "#### Area Chart"
      ]
    },
    {
      "cell_type": "code",
      "execution_count": null,
      "id": "509687c7",
      "metadata": {
        "id": "509687c7"
      },
      "outputs": [],
      "source": [
        "# Area Chart\n"
      ]
    },
    {
      "cell_type": "markdown",
      "id": "4d408e89",
      "metadata": {
        "id": "4d408e89"
      },
      "source": [
        "Feel free to experiment and add any notes or observations here. <br><br><br><br><br>"
      ]
    },
    {
      "cell_type": "code",
      "execution_count": null,
      "id": "7989e6ac",
      "metadata": {
        "id": "7989e6ac"
      },
      "outputs": [],
      "source": [
        "# cyberpunk simple area chart\n"
      ]
    },
    {
      "cell_type": "markdown",
      "id": "420631dd",
      "metadata": {
        "id": "420631dd"
      },
      "source": [
        "Feel free to experiment and add any notes or observations here. <br><br><br><br><br>"
      ]
    },
    {
      "cell_type": "code",
      "execution_count": null,
      "id": "9bc1454c",
      "metadata": {
        "id": "9bc1454c"
      },
      "outputs": [],
      "source": [
        "# stacked area chart\n"
      ]
    },
    {
      "cell_type": "markdown",
      "id": "503f68a3",
      "metadata": {
        "id": "503f68a3"
      },
      "source": [
        "Feel free to experiment and add any notes or observations here. <br><br><br><br><br>"
      ]
    },
    {
      "cell_type": "code",
      "execution_count": null,
      "id": "c0dd9e02",
      "metadata": {
        "id": "c0dd9e02"
      },
      "outputs": [],
      "source": [
        "# unstacked area chart\n"
      ]
    },
    {
      "cell_type": "markdown",
      "id": "35834e39",
      "metadata": {
        "id": "35834e39"
      },
      "source": [
        "Feel free to experiment and add any notes or observations here. <br><br><br><br><br>"
      ]
    },
    {
      "cell_type": "markdown",
      "id": "3d866890",
      "metadata": {
        "id": "3d866890"
      },
      "source": [
        "#### Box Plot"
      ]
    },
    {
      "cell_type": "code",
      "execution_count": null,
      "id": "43991b65",
      "metadata": {
        "id": "43991b65"
      },
      "outputs": [],
      "source": [
        "# Vertical Box Plot\n"
      ]
    },
    {
      "cell_type": "markdown",
      "id": "947dc4d8",
      "metadata": {
        "id": "947dc4d8"
      },
      "source": [
        "Feel free to experiment and add any notes or observations here. <br><br><br><br><br>"
      ]
    },
    {
      "cell_type": "code",
      "execution_count": null,
      "id": "e1b2f85d",
      "metadata": {
        "id": "e1b2f85d"
      },
      "outputs": [],
      "source": [
        "# horizontal box plot\n"
      ]
    },
    {
      "cell_type": "markdown",
      "id": "cfdd9f82",
      "metadata": {
        "id": "cfdd9f82"
      },
      "source": [
        "Feel free to experiment and add any notes or observations here. <br><br><br><br><br>"
      ]
    },
    {
      "cell_type": "markdown",
      "id": "b479350f",
      "metadata": {
        "id": "b479350f"
      },
      "source": [
        "#### Scatter Plot\n",
        "\n",
        "With the newist version of Seaborn we have to specify x and y.\n",
        "\n",
        "example: sb.scatterplot(x = 'sepal_length', y = 'sepal_width', data = df_iris)"
      ]
    },
    {
      "cell_type": "code",
      "execution_count": null,
      "id": "43dbcd4f",
      "metadata": {
        "id": "43dbcd4f"
      },
      "outputs": [],
      "source": [
        "#scatter plot comparing sepal length to sepal width\n"
      ]
    },
    {
      "cell_type": "markdown",
      "id": "4e6d47b5",
      "metadata": {
        "id": "4e6d47b5"
      },
      "source": [
        "Feel free to experiment and add any notes or observations here. <br><br><br><br><br>"
      ]
    },
    {
      "cell_type": "markdown",
      "id": "1277af5c",
      "metadata": {
        "id": "1277af5c"
      },
      "source": [
        "#### Histogram\n",
        "\n",
        "With the newist version of Seaborn they have deprecated distplot. Replace distplot with histplot and add kde = True\n",
        "\n",
        "example:\n",
        "sb.histplot(df_iris['sepal_length'], color = 'Red', label = 'Sepal Length', kde = True)"
      ]
    },
    {
      "cell_type": "code",
      "execution_count": null,
      "id": "d0ac74c1",
      "metadata": {
        "id": "d0ac74c1"
      },
      "outputs": [],
      "source": [
        "#Histogram side by side, with kde\n"
      ]
    },
    {
      "cell_type": "markdown",
      "id": "0eb4855a",
      "metadata": {
        "id": "0eb4855a"
      },
      "source": [
        "Feel free to experiment and add any notes or observations here. <br><br><br><br><br>"
      ]
    },
    {
      "cell_type": "markdown",
      "id": "71cdde5b",
      "metadata": {
        "id": "71cdde5b"
      },
      "source": [
        "#### Bubble Plot"
      ]
    },
    {
      "cell_type": "code",
      "execution_count": null,
      "id": "d6544f40",
      "metadata": {
        "id": "d6544f40"
      },
      "outputs": [],
      "source": [
        "# Bubble Plot\n"
      ]
    },
    {
      "cell_type": "markdown",
      "id": "9e3dde2c",
      "metadata": {
        "id": "9e3dde2c"
      },
      "source": [
        "Feel free to experiment and add any notes or observations here. <br><br><br><br><br>"
      ]
    },
    {
      "cell_type": "markdown",
      "id": "6809d6ad",
      "metadata": {
        "id": "6809d6ad"
      },
      "source": [
        "#### Pie Chart\n",
        "\n",
        "Skip this one as the code throws an error."
      ]
    },
    {
      "cell_type": "markdown",
      "id": "17ca2784",
      "metadata": {
        "id": "17ca2784"
      },
      "source": [
        "df_pie = pd.DataFrame(df.groupby('continent')['total'].sum().T)\n",
        "colors = ['gold', 'yellowgreen', 'lightcoral', 'lightskyblue', 'lightgreen', 'pink']\n",
        "explode = [0,0.1,0,0,0.1,0.1]\n",
        "\n",
        "plt.pie(df_pie, colors = colors, autopct = '%1.1f%%', startangle = 90, explode = explode, pctdistance = 1.12, shadow = True)\n",
        "plt.title('Continent-Wise Immigrants Distribution', color = 'black', y = 1.1, fontsize = 18)\n",
        "plt.legend(df_pie.index, loc = 'upper left', fontsize = 12)\n",
        "plt.axis('equal')\n",
        "plt.savefig('pie.png')\n",
        "\n",
        "plt.show()"
      ]
    },
    {
      "cell_type": "markdown",
      "id": "c2dd3923",
      "metadata": {
        "id": "c2dd3923"
      },
      "source": [
        "#### Doughnut Chart"
      ]
    },
    {
      "cell_type": "code",
      "execution_count": null,
      "id": "e1ed45a2",
      "metadata": {
        "id": "e1ed45a2"
      },
      "outputs": [],
      "source": [
        "# Doughnut Chart\n"
      ]
    },
    {
      "cell_type": "markdown",
      "id": "9fdda71d",
      "metadata": {
        "id": "9fdda71d"
      },
      "source": [
        "Feel free to experiment and add any notes or observations here. <br><br><br><br><br>"
      ]
    },
    {
      "cell_type": "markdown",
      "id": "dba1dc8e",
      "metadata": {
        "id": "dba1dc8e"
      },
      "source": [
        "#### Regression Plot"
      ]
    },
    {
      "cell_type": "code",
      "execution_count": null,
      "id": "bc5f6f24",
      "metadata": {
        "id": "bc5f6f24"
      },
      "outputs": [],
      "source": [
        "# Strong trend\n"
      ]
    },
    {
      "cell_type": "markdown",
      "id": "66c55013",
      "metadata": {
        "id": "66c55013"
      },
      "source": [
        "Feel free to experiment and add any notes or observations here. <br><br><br><br><br>"
      ]
    },
    {
      "cell_type": "code",
      "execution_count": null,
      "id": "0aeed0b5",
      "metadata": {
        "id": "0aeed0b5"
      },
      "outputs": [],
      "source": [
        "# Weak trend\n"
      ]
    },
    {
      "cell_type": "markdown",
      "id": "88bca541",
      "metadata": {
        "id": "88bca541"
      },
      "source": [
        "Feel free to experiment and add any notes or observations here. <br><br><br><br><br>"
      ]
    },
    {
      "cell_type": "markdown",
      "id": "6646021e",
      "metadata": {
        "id": "6646021e"
      },
      "source": [
        "#### Word Cloud\n",
        "\n",
        "You might need to pip install wordcloud and pip install Pywaffle.  Follow the instruction from when you installed cyperpunk earlier.\n",
        "\n",
        "Make sure to add the txt files from [here](https://github.com/codinglikeagirl42/DataVisualizationPython) to your data folder and remember the path is data/filename.txt. Try creating your own txt file to visualize."
      ]
    },
    {
      "cell_type": "code",
      "execution_count": null,
      "id": "4d96e72c",
      "metadata": {
        "id": "4d96e72c"
      },
      "outputs": [],
      "source": [
        "# word cloud\n",
        "from wordcloud import WordCloud, STOPWORDS\n"
      ]
    },
    {
      "cell_type": "markdown",
      "id": "0b7cf536",
      "metadata": {
        "id": "0b7cf536"
      },
      "source": [
        "Feel free to experiment and add any notes or observations here. <br><br><br><br><br>"
      ]
    },
    {
      "cell_type": "markdown",
      "id": "db66a359",
      "metadata": {
        "id": "db66a359"
      },
      "source": [
        "#### Lollipop Chart"
      ]
    },
    {
      "cell_type": "code",
      "execution_count": null,
      "id": "073f2112",
      "metadata": {
        "id": "073f2112"
      },
      "outputs": [],
      "source": [
        "# Lollipop chart\n"
      ]
    },
    {
      "cell_type": "markdown",
      "id": "32843553",
      "metadata": {
        "id": "32843553"
      },
      "source": [
        "Feel free to experiment and add any notes or observations here. <br><br><br><br><br>"
      ]
    },
    {
      "cell_type": "code",
      "execution_count": null,
      "id": "d01fb5e5",
      "metadata": {
        "id": "d01fb5e5"
      },
      "outputs": [],
      "source": []
    }
  ],
  "metadata": {
    "kernelspec": {
      "display_name": "Python 3",
      "language": "python",
      "name": "python3"
    },
    "language_info": {
      "codemirror_mode": {
        "name": "ipython",
        "version": 3
      },
      "file_extension": ".py",
      "mimetype": "text/x-python",
      "name": "python",
      "nbconvert_exporter": "python",
      "pygments_lexer": "ipython3",
      "version": "3.8.8"
    },
    "colab": {
      "provenance": []
    }
  },
  "nbformat": 4,
  "nbformat_minor": 5
}